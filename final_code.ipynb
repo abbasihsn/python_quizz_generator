{
 "cells": [
  {
   "cell_type": "code",
   "execution_count": 37,
   "metadata": {},
   "outputs": [],
   "source": [
    "from moviepy.editor import ImageSequenceClip, VideoFileClip, concatenate_videoclips\n",
    "from PIL import Image, ImageDraw, ImageFont\n",
    "import os\n",
    "import numpy as np\n",
    "import re"
   ]
  },
  {
   "cell_type": "code",
   "execution_count": 38,
   "metadata": {},
   "outputs": [],
   "source": [
    "def create_clip(video_name, images, fps=5, has_end_pause = False, last_frame_pause_per_second = 2):\n",
    "    # Save images to a temporary directory\n",
    "    temp_dir = \"temp_images\"\n",
    "    os.makedirs(temp_dir, exist_ok=True)\n",
    "    filenames = []\n",
    "    for idx, img in enumerate(images):\n",
    "        filename = os.path.join(temp_dir, f\"{idx}.png\")\n",
    "        img.save(filename)\n",
    "        filenames.append(filename)\n",
    "\n",
    "    # pause a little on the last frame\n",
    "    if has_end_pause:\n",
    "        for _ in range(last_frame_pause_per_second*fps):\n",
    "            idx = idx + 1\n",
    "            filename = os.path.join(temp_dir, f\"{idx}.png\")\n",
    "            img.save(filename)\n",
    "            filenames.append(filename)\n",
    "    clip = ImageSequenceClip(filenames, fps=fps)  # Adjust fps for typing speed\n",
    "\n",
    "    # Export the video\n",
    "    clip.write_videofile(video_name, codec=\"libx264\")\n",
    "\n",
    "    # Cleanup: remove temporary images\n",
    "    for filename in filenames:\n",
    "        os.remove(filename)\n",
    "    os.rmdir(temp_dir)\n",
    "\n",
    "    print(f\"Video saved as {video_name}\")"
   ]
  },
  {
   "cell_type": "code",
   "execution_count": 39,
   "metadata": {},
   "outputs": [],
   "source": [
    "def create_image_with_overlay(bg_path, overlay_path, output_path, frame_size=(1080, 1920), h_padding=50, v_padding=50, overlay_shift=0):\n",
    "    \"\"\"\n",
    "    Loads a background image and an overlay image, combines them, and saves or displays the result.\n",
    "    \n",
    "    :param bg_path: Path to the background image.\n",
    "    :param overlay_path: Path to the overlay image (code window).\n",
    "    :param output_path: Path to save the combined image.\n",
    "    :param frame_size: Tuple (width, height) of the output frame.\n",
    "    :param overlay_position: Tuple (x, y) where the top-left corner of the overlay will be placed.\n",
    "    \"\"\"\n",
    "    # Load the background image and resize it to the frame size\n",
    "    bg_image = Image.open(bg_path).convert(\"RGBA\")\n",
    "    bg_image = bg_image.resize(frame_size, Image.Resampling.LANCZOS)  # Resize to fit the frame size\n",
    "    \n",
    "    # Load the overlay image\n",
    "    overlay_image = Image.open(overlay_path).convert(\"RGBA\")\n",
    "\n",
    "    # Calculate new size for the overlay image, maintaining aspect ratio\n",
    "    original_width, original_height = overlay_image.size\n",
    "    new_width = frame_size[0] - 2 * h_padding\n",
    "    new_height = int(original_height * (new_width / original_width))\n",
    "\n",
    "    # Resize the overlay image\n",
    "    overlay_image = overlay_image.resize((new_width, new_height), Image.Resampling.LANCZOS)\n",
    "\n",
    "    # Calculate the position to center the overlay within the frame\n",
    "    overlay_position = (h_padding+overlay_shift,v_padding)\n",
    "\n",
    "    # Paste the overlay image onto the background image at the specified position\n",
    "    bg_image.paste(overlay_image, overlay_position, overlay_image)  # Use overlay_image as a mask for transparency\n",
    "\n",
    "    # Save or display the combined image\n",
    "    # bg_image.save(output_path)\n",
    "    # bg_image.show()\n",
    "    return bg_image"
   ]
  },
  {
   "cell_type": "code",
   "execution_count": 40,
   "metadata": {},
   "outputs": [],
   "source": [
    "background_image_path = 'bg.jpg'\n",
    "overlay_image_path = 'code_window.png'  # This should ideally have transparency\n",
    "output_image_path = 'output_image.jpg'"
   ]
  },
  {
   "cell_type": "code",
   "execution_count": 41,
   "metadata": {},
   "outputs": [],
   "source": [
    "images = []\n",
    "w_size = 1080\n",
    "selected_padding = w_size + 50\n",
    "for idx in np.linspace(0, selected_padding, 100):\n",
    "    img = create_image_with_overlay(background_image_path, overlay_image_path, output_image_path, overlay_shift=(-selected_padding + round(idx)))\n",
    "    images.append(img)"
   ]
  },
  {
   "cell_type": "code",
   "execution_count": 42,
   "metadata": {},
   "outputs": [],
   "source": [
    "# create_clip(\"test_animation.mp4\", images, fps=60, has_end_pause = False, last_frame_pause_per_second = 2)"
   ]
  },
  {
   "cell_type": "code",
   "execution_count": 43,
   "metadata": {},
   "outputs": [],
   "source": [
    "code_lines = [\"def my_fun(a, b):\", \"      print(f'it is a test {a}')\"]"
   ]
  },
  {
   "cell_type": "code",
   "execution_count": 44,
   "metadata": {},
   "outputs": [],
   "source": [
    "def preprocess_line(text):\n",
    "      words = []\n",
    "\n",
    "      pattern = r'(\\(|\\))'\n",
    "      words = re.split(pattern, text)\n",
    "      result = []\n",
    "      for word in words:\n",
    "            if \"'\" not in word and \"\\\"\" not in word:\n",
    "                  if \" \" in word:\n",
    "                        pattern = r'(\\s+)'\n",
    "                        temp = re.split(pattern, word)\n",
    "                        result += temp\n",
    "                  else:\n",
    "                        result.append(word)\n",
    "            else:\n",
    "                  if word.startswith(\"f\"):                                              \n",
    "                        result += [\"f\", word[1:]]\n",
    "                  else:\n",
    "                        result.append(word)\n",
    "\n",
    "      return result"
   ]
  },
  {
   "cell_type": "code",
   "execution_count": 45,
   "metadata": {},
   "outputs": [],
   "source": [
    "# Simulate basic syntax highlighting for Python code\n",
    "def syntax_highlight(text):\n",
    "    keywords = [\"print\", \"def\", \"for\", \"in\", \"return\", \"if\", \"else\"]\n",
    "    colors = {\"keyword\": \"#416ad1\", \"string\": \"#38783c\", \"function\":\"#e7eba2\", \"default\": \"#e1e8e2\"}\n",
    "    \n",
    "    highlighted_text = []\n",
    "    words = preprocess_line(text)\n",
    "    for idx, word in enumerate(words):\n",
    "        color = colors[\"default\"]\n",
    "        if word in keywords:\n",
    "            color = colors[\"keyword\"]\n",
    "        elif word == \"(\":\n",
    "            color = colors[\"function\"]\n",
    "            highlighted_text[-1] = (highlighted_text[-1][0], colors[\"function\"])\n",
    "        elif word == \")\":\n",
    "            color = colors[\"function\"]\n",
    "        elif word.startswith(\"'\") or word.startswith('\"'):\n",
    "            color = colors[\"string\"]\n",
    "        highlighted_text.append((word, color))\n",
    "    return highlighted_text"
   ]
  },
  {
   "cell_type": "code",
   "execution_count": 46,
   "metadata": {},
   "outputs": [],
   "source": [
    "def draw_rounded_rectangle(draw, xy, corner_radius, fill):\n",
    "    \"\"\"\n",
    "    Draws a rounded rectangle with the specified fill color.\n",
    "\n",
    "    :param draw: An ImageDraw instance.\n",
    "    :param xy: The bounding box, as a (left, top, right, bottom)-tuple.\n",
    "    :param corner_radius: Radius of the corners.\n",
    "    :param fill: The fill color.\n",
    "    \"\"\"\n",
    "    upper_left, upper_right, bottom_left, bottom_right = xy\n",
    "    # Draw the center rectangle\n",
    "    draw.rectangle([upper_left + corner_radius, upper_right, bottom_left - corner_radius, bottom_right], fill=fill)\n",
    "    # Draw the four sides\n",
    "    draw.rectangle([upper_left, upper_right + corner_radius, bottom_left, bottom_right - corner_radius], fill=fill)\n",
    "    # Draw the four corners\n",
    "    draw.pieslice([upper_left, upper_right, upper_left + corner_radius * 2, upper_right + corner_radius * 2], start=180, end=270, fill=fill)\n",
    "    draw.pieslice([bottom_left - corner_radius * 2, upper_right, bottom_left, upper_right + corner_radius * 2], start=270, end=360, fill=fill)\n",
    "    draw.pieslice([upper_left, bottom_right - corner_radius * 2, upper_left + corner_radius * 2, bottom_right], start=90, end=180, fill=fill)\n",
    "    draw.pieslice([bottom_left - corner_radius * 2, bottom_right - corner_radius * 2, bottom_left, bottom_right], start=0, end=90, fill=fill)\n"
   ]
  },
  {
   "cell_type": "code",
   "execution_count": 47,
   "metadata": {},
   "outputs": [],
   "source": [
    "# Font settings (Adjust the path to your font file)\n",
    "font_path = \"./fonts/ARLRDBD.ttf\"  # Adjust this path to the font you want to use\n",
    "font_size = 55\n",
    "font = ImageFont.truetype(font_path, font_size)"
   ]
  },
  {
   "cell_type": "code",
   "execution_count": 48,
   "metadata": {},
   "outputs": [],
   "source": [
    "previous_bg_image = images[-1].copy()"
   ]
  },
  {
   "cell_type": "code",
   "execution_count": 49,
   "metadata": {},
   "outputs": [],
   "source": [
    "previous_bg_image.show()"
   ]
  },
  {
   "cell_type": "code",
   "execution_count": 50,
   "metadata": {},
   "outputs": [],
   "source": [
    "code_lines = [\"def my_fun(a, b):\", \"      print(f'it is a test {a}')\"]\n",
    "# code_lines = [\"def\", \"      print\"]\n",
    "padding = 50\n",
    "img_width = 1080"
   ]
  },
  {
   "cell_type": "code",
   "execution_count": 51,
   "metadata": {},
   "outputs": [],
   "source": [
    "# Generate a sequence of images\n",
    "images = []\n",
    "y_init = 0 + padding * 3\n",
    "bkg_image = None\n",
    "for code_line in code_lines:\n",
    "    for i in range(1, len(code_line) + 1):\n",
    "        if bkg_image:\n",
    "            img = bkg_image.copy()\n",
    "        else:\n",
    "            img = previous_bg_image.copy()\n",
    "        draw = ImageDraw.Draw(img)\n",
    "        \n",
    "        # Apply simplified syntax highlighting\n",
    "        partial_code = syntax_highlight(code_line[:i])       \n",
    "        x = 20 + padding * 1.25\n",
    "        for word, color in partial_code:\n",
    "            draw.text((x, y_init), word, fill=color, font=font)\n",
    "            word_width = draw.textlength(word + \" \", font=font)  # Correct method to get text size\n",
    "            word_height = font_size\n",
    "            x += word_width  # Move x for the next word\n",
    "        images.append(img)\n",
    "    y_init += font_size * 1.2\n",
    "    bkg_image = img.copy()"
   ]
  },
  {
   "cell_type": "code",
   "execution_count": 52,
   "metadata": {},
   "outputs": [],
   "source": [
    "# create_clip(\"question_typing.mp4\", images, fps=10, has_end_pause = True, last_frame_pause_per_second = 4)"
   ]
  },
  {
   "cell_type": "markdown",
   "metadata": {},
   "source": []
  },
  {
   "cell_type": "code",
   "execution_count": 53,
   "metadata": {},
   "outputs": [],
   "source": [
    "question_done = images[-1].copy()\n",
    "question_done.save(\"question_done.png\")"
   ]
  },
  {
   "cell_type": "code",
   "execution_count": 54,
   "metadata": {},
   "outputs": [],
   "source": [
    "def add_text_to_image(image_path, output_path, text, position, font_path, font_size=20, text_color=(255, 255, 255)):\n",
    "    \"\"\"\n",
    "    Adds text to an image and saves the result.\n",
    "\n",
    "    :param image_path: Path to the input image.\n",
    "    :param output_path: Path to save the modified image.\n",
    "    :param text: Text to add to the image.\n",
    "    :param position: Tuple (x, y) where the text will be added.\n",
    "    :param font_path: Path to the font file.\n",
    "    :param font_size: Size of the font.\n",
    "    :param text_color: Color of the text as a tuple (R, G, B).\n",
    "    \"\"\"\n",
    "    # Load the image\n",
    "    image = Image.open(image_path).convert(\"RGBA\")\n",
    "\n",
    "    # Initialize the drawing context\n",
    "    draw = ImageDraw.Draw(image)\n",
    "\n",
    "    # Define the font\n",
    "    try:\n",
    "        font = ImageFont.truetype(font_path, font_size)\n",
    "    except IOError:\n",
    "        print(\"Font file not found, using default font.\")\n",
    "        font = ImageFont.load_default()\n",
    "\n",
    "    # Add text to the image\n",
    "    draw.text(position, text, font=font, fill=text_color)\n",
    "\n",
    "    # Save the result\n",
    "    image.save(output_path)\n",
    "    # image.show()"
   ]
  },
  {
   "cell_type": "code",
   "execution_count": 55,
   "metadata": {},
   "outputs": [],
   "source": [
    "# Define the choices\n",
    "choices = ['A) Option 1', 'B) Option 2', 'C) Option 3', 'D) Option 4']"
   ]
  },
  {
   "cell_type": "code",
   "execution_count": 56,
   "metadata": {},
   "outputs": [],
   "source": [
    "for idx, choice in enumerate(choices):\n",
    "    add_text_to_image(\"choice.png\", f\"choice_{idx}.png\", choice, (3*padding, 20), font_path, font_size=50, text_color=(255, 255, 255))"
   ]
  },
  {
   "cell_type": "code",
   "execution_count": 57,
   "metadata": {},
   "outputs": [],
   "source": [
    "images = []\n",
    "w_size = 1080\n",
    "selected_padding = w_size + 50\n",
    "v_padding = 700\n",
    "v_padding_step = 120\n",
    "for choice_idx, choice in enumerate(choices):\n",
    "    for idx in np.linspace(0, selected_padding, 50):\n",
    "        img = create_image_with_overlay(\"question_done.png\", f\"choice_{choice_idx}.png\", output_image_path, overlay_shift=(-selected_padding + round(idx)), v_padding=v_padding)\n",
    "        images.append(img)\n",
    "    img.save(\"question_done.png\")\n",
    "    v_padding += v_padding_step"
   ]
  },
  {
   "cell_type": "code",
   "execution_count": 58,
   "metadata": {},
   "outputs": [],
   "source": [
    "# create_clip(\"choices_animation.mp4\", images, fps=30, has_end_pause = True, last_frame_pause_per_second = 20)"
   ]
  },
  {
   "cell_type": "code",
   "execution_count": 59,
   "metadata": {},
   "outputs": [],
   "source": [
    "answer_idx = 1\n",
    "add_text_to_image(\"choice_answer.png\", f\"choice_{answer_idx}.png\", choices[answer_idx], (3*padding, 20), font_path, font_size=50, text_color=(255, 255, 255))"
   ]
  },
  {
   "cell_type": "code",
   "execution_count": 60,
   "metadata": {},
   "outputs": [],
   "source": [
    "v_padding=v_padding-(len(choices)-answer_idx) * v_padding_step\n",
    "img = create_image_with_overlay(\"question_done.png\", f\"choice_{answer_idx}.png\", output_image_path, overlay_shift=0, v_padding=v_padding)\n",
    "img.save('answer_temp.png')\n",
    "checkmark_img = Image.open('check-mark.png').resize((75, 75))  # Resize as needed\n",
    "h_padding = 50\n",
    "overlay_shift = 0\n",
    "checkmark_position = (2*h_padding+overlay_shift,v_padding+10)\n",
    "img.paste(checkmark_img, checkmark_position, checkmark_img)\n",
    "img.show()\n"
   ]
  },
  {
   "cell_type": "code",
   "execution_count": 61,
   "metadata": {},
   "outputs": [],
   "source": [
    "img.save('answer_temp.png')"
   ]
  },
  {
   "cell_type": "code",
   "execution_count": 62,
   "metadata": {},
   "outputs": [],
   "source": [
    "checkmark_path = 'check-mark.png'  # Path to your checkmark image\n",
    "check_mark_size = 75\n",
    "# Load the checkmark image\n",
    "checkmark_img = Image.open(checkmark_path).resize((check_mark_size, check_mark_size))  # Resize as needed\n"
   ]
  },
  {
   "cell_type": "code",
   "execution_count": 63,
   "metadata": {},
   "outputs": [],
   "source": [
    "# create_clip(\"choices_animation_with_answer.mp4\", [img], fps=30, has_end_pause = True, last_frame_pause_per_second = 5)"
   ]
  },
  {
   "cell_type": "code",
   "execution_count": 65,
   "metadata": {},
   "outputs": [],
   "source": [
    "# # Load your videos\n",
    "# video1 = VideoFileClip(\"test_animation.mp4\")\n",
    "# video2 = VideoFileClip(\"question_typing.mp4\")\n",
    "# video3 = VideoFileClip(\"choices_animation.mp4\")\n",
    "# video4 = VideoFileClip(\"choices_animation_with_answer.mp4\")\n",
    "\n",
    "# # Concatenate the videos\n",
    "# final_video = concatenate_videoclips([video1, video2, video3, video4])\n",
    "\n",
    "# # Write the result to a file\n",
    "# final_video.write_videofile(\"concatenated_video.mp4\")"
   ]
  },
  {
   "cell_type": "code",
   "execution_count": null,
   "metadata": {},
   "outputs": [],
   "source": []
  }
 ],
 "metadata": {
  "kernelspec": {
   "display_name": "venv",
   "language": "python",
   "name": "python3"
  },
  "language_info": {
   "codemirror_mode": {
    "name": "ipython",
    "version": 3
   },
   "file_extension": ".py",
   "mimetype": "text/x-python",
   "name": "python",
   "nbconvert_exporter": "python",
   "pygments_lexer": "ipython3",
   "version": "3.11.3"
  }
 },
 "nbformat": 4,
 "nbformat_minor": 2
}
