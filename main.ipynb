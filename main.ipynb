{
 "cells": [
  {
   "cell_type": "code",
   "execution_count": 1,
   "metadata": {},
   "outputs": [],
   "source": [
    "from moviepy.editor import ImageSequenceClip\n",
    "from PIL import Image, ImageDraw, ImageFont\n",
    "import os\n",
    "import re"
   ]
  },
  {
   "cell_type": "code",
   "execution_count": 2,
   "metadata": {},
   "outputs": [],
   "source": [
    "code_lines = [\"def my_fun(a, b):\", \"      print(f'it is a test {a}')\"]"
   ]
  },
  {
   "cell_type": "code",
   "execution_count": 3,
   "metadata": {},
   "outputs": [],
   "source": [
    "# Font settings (Adjust the path to your font file)\n",
    "font_path = \"./fonts/ARLRDBD.ttf\"  # Adjust this path to the font you want to use\n",
    "font_size = 70\n",
    "font = ImageFont.truetype(font_path, font_size)"
   ]
  },
  {
   "cell_type": "code",
   "execution_count": 4,
   "metadata": {},
   "outputs": [],
   "source": [
    "def preprocess_line(text):\n",
    "      words = []\n",
    "\n",
    "      pattern = r'(\\(|\\))'\n",
    "      words = re.split(pattern, text)\n",
    "      result = []\n",
    "      for word in words:\n",
    "            if \"'\" not in word and \"\\\"\" not in word:\n",
    "                  if \" \" in word:\n",
    "                        pattern = r'(\\s+)'\n",
    "                        temp = re.split(pattern, word)\n",
    "                        result += temp\n",
    "                  else:\n",
    "                        result.append(word)\n",
    "            else:\n",
    "                  if word.startswith(\"f\"):                                              \n",
    "                        result += [\"f\", word[1:]]\n",
    "                  else:\n",
    "                        result.append(word)\n",
    "\n",
    "      return result"
   ]
  },
  {
   "cell_type": "code",
   "execution_count": 5,
   "metadata": {},
   "outputs": [],
   "source": [
    "# Simulate basic syntax highlighting for Python code\n",
    "def syntax_highlight(text):\n",
    "    keywords = [\"print\", \"def\", \"for\", \"in\", \"return\", \"if\", \"else\"]\n",
    "    colors = {\"keyword\": \"blue\", \"string\": \"green\", \"default\": \"black\"}\n",
    "    \n",
    "    highlighted_text = []\n",
    "    words = preprocess_line(text)\n",
    "    for word in words:\n",
    "        color = colors[\"default\"]\n",
    "        if word in keywords:\n",
    "            color = colors[\"keyword\"]\n",
    "        elif word.startswith(\"'\") or word.startswith('\"'):\n",
    "            color = colors[\"string\"]\n",
    "        highlighted_text.append((word, color))\n",
    "    return highlighted_text"
   ]
  },
  {
   "cell_type": "code",
   "execution_count": 6,
   "metadata": {},
   "outputs": [],
   "source": [
    "def draw_rounded_rectangle(draw, xy, corner_radius, fill):\n",
    "    \"\"\"\n",
    "    Draws a rounded rectangle with the specified fill color.\n",
    "\n",
    "    :param draw: An ImageDraw instance.\n",
    "    :param xy: The bounding box, as a (left, top, right, bottom)-tuple.\n",
    "    :param corner_radius: Radius of the corners.\n",
    "    :param fill: The fill color.\n",
    "    \"\"\"\n",
    "    upper_left, upper_right, bottom_left, bottom_right = xy\n",
    "    # Draw the center rectangle\n",
    "    draw.rectangle([upper_left + corner_radius, upper_right, bottom_left - corner_radius, bottom_right], fill=fill)\n",
    "    # Draw the four sides\n",
    "    draw.rectangle([upper_left, upper_right + corner_radius, bottom_left, bottom_right - corner_radius], fill=fill)\n",
    "    # Draw the four corners\n",
    "    draw.pieslice([upper_left, upper_right, upper_left + corner_radius * 2, upper_right + corner_radius * 2], start=180, end=270, fill=fill)\n",
    "    draw.pieslice([bottom_left - corner_radius * 2, upper_right, bottom_left, upper_right + corner_radius * 2], start=270, end=360, fill=fill)\n",
    "    draw.pieslice([upper_left, bottom_right - corner_radius * 2, upper_left + corner_radius * 2, bottom_right], start=90, end=180, fill=fill)\n",
    "    draw.pieslice([bottom_left - corner_radius * 2, bottom_right - corner_radius * 2, bottom_left, bottom_right], start=0, end=90, fill=fill)\n"
   ]
  },
  {
   "cell_type": "code",
   "execution_count": 7,
   "metadata": {},
   "outputs": [],
   "source": [
    "def create_clip(video_name, images, fps=5, has_end_pause = False, last_frame_pause_per_second = 2):\n",
    "    # Save images to a temporary directory\n",
    "    temp_dir = \"temp_images\"\n",
    "    os.makedirs(temp_dir, exist_ok=True)\n",
    "    filenames = []\n",
    "    for idx, img in enumerate(images):\n",
    "        filename = os.path.join(temp_dir, f\"{idx}.png\")\n",
    "        img.save(filename)\n",
    "        filenames.append(filename)\n",
    "\n",
    "    # pause a little on the last frame\n",
    "    if has_end_pause:\n",
    "        for _ in range(last_frame_pause_per_second*fps):\n",
    "            idx = idx + 1\n",
    "            filename = os.path.join(temp_dir, f\"{idx}.png\")\n",
    "            img.save(filename)\n",
    "            filenames.append(filename)\n",
    "    clip = ImageSequenceClip(filenames, fps=fps)  # Adjust fps for typing speed\n",
    "\n",
    "    # Export the video\n",
    "    clip.write_videofile(video_name, codec=\"libx264\")\n",
    "\n",
    "    # Cleanup: remove temporary images\n",
    "    for filename in filenames:\n",
    "        os.remove(filename)\n",
    "    os.rmdir(temp_dir)\n",
    "\n",
    "    print(f\"Video saved as {video_name}\")"
   ]
  },
  {
   "cell_type": "code",
   "execution_count": 8,
   "metadata": {},
   "outputs": [],
   "source": [
    "# Image settings\n",
    "img_width, img_height = 1080, 1920\n",
    "background_color = \"white\"\n",
    "rect_background_color = (128, 128, 128)\n",
    "rect_border_color = (0, 0, 0)\n",
    "padding = 50  # Padding around the rectangle\n",
    "rectangle_height = 300"
   ]
  },
  {
   "cell_type": "code",
   "execution_count": 10,
   "metadata": {},
   "outputs": [],
   "source": [
    "# Generate a sequence of images\n",
    "images = []\n",
    "y_init = 0 + padding * 1.25\n",
    "bkg_image = None\n",
    "for code_line in code_lines:\n",
    "    for i in range(1, len(code_line) + 1):\n",
    "        if bkg_image:\n",
    "            img = bkg_image.copy()\n",
    "        else:\n",
    "            img = Image.new(\"RGB\", (img_width, img_height), color=background_color)\n",
    "        draw = ImageDraw.Draw(img)\n",
    "        \n",
    "        # Draw a rectangle container\n",
    "        if bkg_image is None:\n",
    "            draw_rounded_rectangle(draw, [padding, padding, img_width - padding, rectangle_height], 20, fill=rect_background_color)\n",
    "        \n",
    "        # Apply simplified syntax highlighting\n",
    "        partial_code = syntax_highlight(code_line[:i])       \n",
    "        x, y = 20 + padding * 1.25, 30 + y_init  \n",
    "        for word, color in partial_code:\n",
    "            draw.text((x, y_init), word, fill=color, font=font)\n",
    "            word_width = draw.textlength(word + \" \", font=font)  # Correct method to get text size\n",
    "            word_height = font_size\n",
    "            x += word_width  # Move x for the next word\n",
    "        images.append(img)\n",
    "    y_init += font_size * 1.2\n",
    "    bkg_image = img.copy()"
   ]
  },
  {
   "cell_type": "code",
   "execution_count": 11,
   "metadata": {},
   "outputs": [
    {
     "name": "stdout",
     "output_type": "stream",
     "text": [
      "Moviepy - Building video question_typing.mp4.\n",
      "Moviepy - Writing video question_typing.mp4\n",
      "\n"
     ]
    },
    {
     "name": "stderr",
     "output_type": "stream",
     "text": [
      "                                                            \r"
     ]
    },
    {
     "name": "stdout",
     "output_type": "stream",
     "text": [
      "Moviepy - Done !\n",
      "Moviepy - video ready question_typing.mp4\n",
      "Video saved as question_typing.mp4\n"
     ]
    }
   ],
   "source": [
    "create_clip(\"question_typing.mp4\", images, fps=10, has_end_pause = True, last_frame_pause_per_second = 4)"
   ]
  },
  {
   "cell_type": "code",
   "execution_count": 12,
   "metadata": {},
   "outputs": [],
   "source": [
    "# Define the choices\n",
    "choices = ['Choice A: Option 1', 'Choice B: Option 2', 'Choice C: Option 3', 'Choice D: Option 4']\n",
    "question_done_img = img.copy()"
   ]
  },
  {
   "cell_type": "code",
   "execution_count": 13,
   "metadata": {},
   "outputs": [],
   "source": [
    "# Generate images\n",
    "images = []\n",
    "for num_choices in range(1, len(choices) + 1):\n",
    "    img = question_done_img.copy()\n",
    "    draw = ImageDraw.Draw(img)\n",
    "    \n",
    "    y = padding + 400 # Start y position\n",
    "    for i in range(num_choices):\n",
    "        draw.text((padding, y), choices[i], fill=\"black\", font=font)\n",
    "        y += font_size + 5  # Update y position for the next choice\n",
    "    \n",
    "    images.append(img)"
   ]
  },
  {
   "cell_type": "code",
   "execution_count": 14,
   "metadata": {},
   "outputs": [
    {
     "name": "stdout",
     "output_type": "stream",
     "text": [
      "Moviepy - Building video choices_animation.mp4.\n",
      "Moviepy - Writing video choices_animation.mp4\n",
      "\n"
     ]
    },
    {
     "name": "stderr",
     "output_type": "stream",
     "text": [
      "                                                            \r"
     ]
    },
    {
     "name": "stdout",
     "output_type": "stream",
     "text": [
      "Moviepy - Done !\n",
      "Moviepy - video ready choices_animation.mp4\n",
      "Video saved as choices_animation.mp4\n"
     ]
    }
   ],
   "source": [
    "create_clip(\"choices_animation.mp4\", images, fps=1, has_end_pause = True, last_frame_pause_per_second = 20)"
   ]
  },
  {
   "cell_type": "code",
   "execution_count": 21,
   "metadata": {},
   "outputs": [],
   "source": [
    "# Assuming 'choices' list, 'font', 'padding', and 'question_done_img' are defined\n",
    "correct_choice_index = 0  # Index of the correct choice\n",
    "checkmark_path = 'check-mark.png'  # Path to your checkmark image\n",
    "check_mark_size = 75\n",
    "# Load the checkmark image\n",
    "checkmark_img = Image.open(checkmark_path).resize((check_mark_size, check_mark_size))  # Resize as needed\n",
    "\n",
    "# Function to draw choices and optionally highlight the correct one\n",
    "def draw_choices_with_highlight(img, highlight=False):\n",
    "    draw = ImageDraw.Draw(img)\n",
    "    y = padding + 400  # Start y position\n",
    "    \n",
    "    for i, choice in enumerate(choices):\n",
    "        if highlight and i == correct_choice_index:\n",
    "            # Calculate text size for drawing the rectangle\n",
    "            text_width  = draw.textlength(choice, font=font)\n",
    "            text_height = font_size\n",
    "            bg_color = \"#a8db81\"  # A vibrant yellow, for example\n",
    "            # Draw rectangle around the correct choice\n",
    "            draw_rounded_rectangle(draw, [padding * 1.5 + check_mark_size , y, padding * 2.5 + check_mark_size + text_width, y + text_height*1.2], corner_radius=20, fill=bg_color)\n",
    "            # Paste the checkmark image behind the answer, adjust positioning as needed\n",
    "            img.paste(checkmark_img, (int(padding), y), checkmark_img)\n",
    "        \n",
    "        draw.text((padding * 2 + check_mark_size, y), choice, fill=\"black\", font=font)\n",
    "        y += font_size + 5  # Update y position for the next choice\n",
    "    \n",
    "    return img\n",
    "\n",
    "# Generate images for animation\n",
    "images = []\n",
    "for num_choices in range(len(choices)):\n",
    "    img = question_done_img.copy()\n",
    "    images.append(draw_choices_with_highlight(img))\n",
    "\n",
    "# Optional: Add pause frames\n",
    "pause_duration_frames = 2  # Number of frames to pause before showing the answer\n",
    "images.extend([images[-1]] * pause_duration_frames)\n",
    "\n",
    "# Highlight the correct answer in the final frame(s)\n",
    "img = question_done_img.copy()\n",
    "highlighted_img = draw_choices_with_highlight(img, highlight=True)\n",
    "images.append(highlighted_img)"
   ]
  },
  {
   "cell_type": "code",
   "execution_count": 22,
   "metadata": {},
   "outputs": [
    {
     "name": "stdout",
     "output_type": "stream",
     "text": [
      "Moviepy - Building video test_answer.mp4.\n",
      "Moviepy - Writing video test_answer.mp4\n",
      "\n"
     ]
    },
    {
     "name": "stderr",
     "output_type": "stream",
     "text": [
      "                                                            \r"
     ]
    },
    {
     "name": "stdout",
     "output_type": "stream",
     "text": [
      "Moviepy - Done !\n",
      "Moviepy - video ready test_answer.mp4\n",
      "Video saved as test_answer.mp4\n"
     ]
    }
   ],
   "source": [
    "create_clip(\"test_answer.mp4\", images, fps=5, has_end_pause = True, last_frame_pause_per_second = 5)"
   ]
  },
  {
   "cell_type": "code",
   "execution_count": null,
   "metadata": {},
   "outputs": [],
   "source": []
  }
 ],
 "metadata": {
  "kernelspec": {
   "display_name": "venv",
   "language": "python",
   "name": "python3"
  },
  "language_info": {
   "codemirror_mode": {
    "name": "ipython",
    "version": 3
   },
   "file_extension": ".py",
   "mimetype": "text/x-python",
   "name": "python",
   "nbconvert_exporter": "python",
   "pygments_lexer": "ipython3",
   "version": "3.11.3"
  }
 },
 "nbformat": 4,
 "nbformat_minor": 2
}
