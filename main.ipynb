{
 "cells": [
  {
   "cell_type": "code",
   "execution_count": 25,
   "metadata": {},
   "outputs": [],
   "source": [
    "from moviepy.editor import ImageSequenceClip\n",
    "from PIL import Image, ImageDraw, ImageFont\n",
    "import os\n",
    "import re"
   ]
  },
  {
   "cell_type": "code",
   "execution_count": 26,
   "metadata": {},
   "outputs": [],
   "source": [
    "code_lines = [\"def my_fun(a, b):\", \"      print(f'it is a test {a}')\"]"
   ]
  },
  {
   "cell_type": "code",
   "execution_count": 27,
   "metadata": {},
   "outputs": [],
   "source": [
    "# Font settings (Adjust the path to your font file)\n",
    "font_path = \"./fonts/ARLRDBD.ttf\"  # Adjust this path to the font you want to use\n",
    "font_size = 70\n",
    "font = ImageFont.truetype(font_path, font_size)"
   ]
  },
  {
   "cell_type": "code",
   "execution_count": 28,
   "metadata": {},
   "outputs": [],
   "source": [
    "def preprocess_line(text):\n",
    "      words = []\n",
    "\n",
    "      pattern = r'(\\(|\\))'\n",
    "      words = re.split(pattern, text)\n",
    "      result = []\n",
    "      for word in words:\n",
    "            if \"'\" not in word and \"\\\"\" not in word:\n",
    "                  if \" \" in word:\n",
    "                        pattern = r'(\\s+)'\n",
    "                        temp = re.split(pattern, word)\n",
    "                        result += temp\n",
    "                  else:\n",
    "                        result.append(word)\n",
    "            else:\n",
    "                  if word.startswith(\"f\"):                                              \n",
    "                        result += [\"f\", word[1:]]\n",
    "                  else:\n",
    "                        result.append(word)\n",
    "\n",
    "      return result"
   ]
  },
  {
   "cell_type": "code",
   "execution_count": 29,
   "metadata": {},
   "outputs": [],
   "source": [
    "# Simulate basic syntax highlighting for Python code\n",
    "def syntax_highlight(text):\n",
    "    keywords = [\"print\", \"def\", \"for\", \"in\", \"return\", \"if\", \"else\"]\n",
    "    colors = {\"keyword\": \"blue\", \"string\": \"green\", \"default\": \"black\"}\n",
    "    \n",
    "    highlighted_text = []\n",
    "    words = preprocess_line(text)\n",
    "    for word in words:\n",
    "        color = colors[\"default\"]\n",
    "        if word in keywords:\n",
    "            color = colors[\"keyword\"]\n",
    "        elif word.startswith(\"'\") or word.startswith('\"'):\n",
    "            color = colors[\"string\"]\n",
    "        highlighted_text.append((word, color))\n",
    "    return highlighted_text"
   ]
  },
  {
   "cell_type": "code",
   "execution_count": 30,
   "metadata": {},
   "outputs": [],
   "source": [
    "def draw_rounded_rectangle(draw, xy, corner_radius, fill=None, outline=None):\n",
    "    upper_left_point = (xy[0], xy[1])\n",
    "    bottom_right_point = (xy[2], xy[3])\n",
    "\n",
    "    # Draw the four corners\n",
    "    draw.pieslice([upper_left_point, (upper_left_point[0] + corner_radius * 2, upper_left_point[1] + corner_radius * 2)], start=180, end=270, fill=fill, outline=outline)\n",
    "    draw.pieslice([(bottom_right_point[0] - corner_radius * 2, upper_left_point[1]), (bottom_right_point[0], upper_left_point[1] + corner_radius * 2)], start=270, end=360, fill=fill, outline=outline)\n",
    "    draw.pieslice([(upper_left_point[0], bottom_right_point[1] - corner_radius * 2), (upper_left_point[0] + corner_radius * 2, bottom_right_point[1])], start=90, end=180, fill=fill, outline=outline)\n",
    "    draw.pieslice([(bottom_right_point[0] - corner_radius * 2, bottom_right_point[1] - corner_radius * 2), bottom_right_point], start=0, end=90, fill=fill, outline=outline)\n",
    "\n",
    "    # Draw the four sides\n",
    "    draw.rectangle([upper_left_point[0], upper_left_point[1] + corner_radius, upper_left_point[0] + corner_radius, bottom_right_point[1] - corner_radius], fill=fill)\n",
    "    draw.rectangle([bottom_right_point[0] - corner_radius, upper_left_point[1] + corner_radius, bottom_right_point[0], bottom_right_point[1] - corner_radius], fill=fill)\n",
    "    draw.rectangle([upper_left_point[0] + corner_radius, upper_left_point[1], bottom_right_point[0] - corner_radius, upper_left_point[1] + corner_radius], fill=fill)\n",
    "    draw.rectangle([upper_left_point[0] + corner_radius, bottom_right_point[1] - corner_radius, bottom_right_point[0] - corner_radius, bottom_right_point[1]], fill=fill)\n",
    "\n",
    "    # Draw the center rectangle\n",
    "    draw.rectangle([upper_left_point[0] + corner_radius, upper_left_point[1] + corner_radius, bottom_right_point[0] - corner_radius, bottom_right_point[1] - corner_radius], fill=fill)\n"
   ]
  },
  {
   "cell_type": "code",
   "execution_count": 46,
   "metadata": {},
   "outputs": [],
   "source": [
    "# Image settings\n",
    "img_width, img_height = 1080, 1920\n",
    "background_color = \"white\"\n",
    "rect_background_color = (128, 128, 128)\n",
    "rect_border_color = (0, 0, 0)\n",
    "padding = 50  # Padding around the rectangle\n",
    "rectangle_height = 300"
   ]
  },
  {
   "cell_type": "code",
   "execution_count": 47,
   "metadata": {},
   "outputs": [],
   "source": [
    "# Generate a sequence of images\n",
    "images = []\n",
    "y_init = 0 + padding * 1.25\n",
    "bkg_image = None\n",
    "for code_line in code_lines:\n",
    "    for i in range(1, len(code_line) + 1):\n",
    "        if bkg_image:\n",
    "            img = bkg_image.copy()\n",
    "        else:\n",
    "            img = Image.new(\"RGB\", (img_width, img_height), color=background_color)\n",
    "        draw = ImageDraw.Draw(img)\n",
    "        \n",
    "        # Draw a rectangle container\n",
    "        if bkg_image is None:\n",
    "            draw_rounded_rectangle(draw, [padding, padding, img_width - padding, rectangle_height], 20, outline=rect_border_color, fill=rect_background_color)\n",
    "        \n",
    "        # Apply simplified syntax highlighting\n",
    "        partial_code = syntax_highlight(code_line[:i])       \n",
    "        x, y = 20 + padding * 1.25, 30 + y_init  \n",
    "        for word, color in partial_code:\n",
    "            draw.text((x, y_init), word, fill=color, font=font)\n",
    "            word_width = draw.textlength(word + \" \", font=font)  # Correct method to get text size\n",
    "            word_height = font_size\n",
    "            x += word_width  # Move x for the next word\n",
    "        images.append(img)\n",
    "    y_init += font_size * 1.2\n",
    "    bkg_image = img.copy()"
   ]
  },
  {
   "cell_type": "code",
   "execution_count": 48,
   "metadata": {},
   "outputs": [],
   "source": [
    "# Save images to a temporary directory\n",
    "temp_dir = \"temp_images\"\n",
    "os.makedirs(temp_dir, exist_ok=True)\n",
    "filenames = []\n",
    "for idx, img in enumerate(images):\n",
    "    filename = os.path.join(temp_dir, f\"{idx}.png\")\n",
    "    img.save(filename)\n",
    "    filenames.append(filename)"
   ]
  },
  {
   "cell_type": "code",
   "execution_count": 49,
   "metadata": {},
   "outputs": [
    {
     "name": "stdout",
     "output_type": "stream",
     "text": [
      "Moviepy - Building video typing_effect.mp4.\n",
      "Moviepy - Writing video typing_effect.mp4\n",
      "\n"
     ]
    },
    {
     "name": "stderr",
     "output_type": "stream",
     "text": [
      "                                                            \r"
     ]
    },
    {
     "name": "stdout",
     "output_type": "stream",
     "text": [
      "Moviepy - Done !\n",
      "Moviepy - video ready typing_effect.mp4\n",
      "Video saved as typing_effect.mp4\n"
     ]
    }
   ],
   "source": [
    "# Create a video clip from images\n",
    "clip = ImageSequenceClip(filenames, fps=5)  # Adjust fps for typing speed\n",
    "\n",
    "# Export the video\n",
    "output_video = \"typing_effect.mp4\"\n",
    "clip.write_videofile(output_video, codec=\"libx264\")\n",
    "\n",
    "# Cleanup: remove temporary images\n",
    "for filename in filenames:\n",
    "    os.remove(filename)\n",
    "os.rmdir(temp_dir)\n",
    "\n",
    "print(f\"Video saved as {output_video}\")"
   ]
  },
  {
   "cell_type": "code",
   "execution_count": null,
   "metadata": {},
   "outputs": [],
   "source": []
  },
  {
   "cell_type": "code",
   "execution_count": null,
   "metadata": {},
   "outputs": [],
   "source": []
  }
 ],
 "metadata": {
  "kernelspec": {
   "display_name": "venv",
   "language": "python",
   "name": "python3"
  },
  "language_info": {
   "codemirror_mode": {
    "name": "ipython",
    "version": 3
   },
   "file_extension": ".py",
   "mimetype": "text/x-python",
   "name": "python",
   "nbconvert_exporter": "python",
   "pygments_lexer": "ipython3",
   "version": "3.11.4"
  }
 },
 "nbformat": 4,
 "nbformat_minor": 2
}
