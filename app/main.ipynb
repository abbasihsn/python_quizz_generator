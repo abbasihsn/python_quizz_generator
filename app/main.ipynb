{
 "cells": [
  {
   "cell_type": "code",
   "execution_count": 2,
   "metadata": {},
   "outputs": [],
   "source": [
    "import utils as utils\n",
    "from PIL import ImageFont\n",
    "# code lines\n",
    "code_lines = [\"def my_fun(a, b):\", \"      print(f'it is a test {a}')\"]\n",
    "# Define the choices\n",
    "choices = ['A) Option 1', 'B) Option 2', 'C) Option 3', 'D) Option 4']\n",
    "answer_idx = 1\n",
    "\n",
    "# parameters\n",
    "padding = 50\n",
    "v_padding = 700\n",
    "v_padding_step = 120\n",
    "\n",
    "# Font settings (Adjust the path to your font file)\n",
    "font_path = \"./fonts/ARLRDBD.ttf\"  # Adjust this path to the font you want to use\n",
    "font_size = 55\n",
    "font = ImageFont.truetype(font_path, font_size)"
   ]
  },
  {
   "cell_type": "code",
   "execution_count": 4,
   "metadata": {},
   "outputs": [],
   "source": [
    "# window code animation\n",
    "background_image_path = 'bg.jpg'\n",
    "overlay_image_path = 'code_window.png'\n",
    "window_code_images = utils.create_code_window_animation(background_image_path=background_image_path, overlay_image_path=overlay_image_path)"
   ]
  },
  {
   "cell_type": "code",
   "execution_count": 5,
   "metadata": {},
   "outputs": [],
   "source": [
    "window_code_images[-1].show()"
   ]
  },
  {
   "cell_type": "code",
   "execution_count": 6,
   "metadata": {},
   "outputs": [],
   "source": [
    "# generate typing effect\n",
    "code_typing_images = utils.generate_code_typing_effect(code_lines, window_code_images[-1].copy(), font_path, font_size, font, padding=50, line_height_ratio = 1.2)\n",
    "code_typing_images[-1].show()"
   ]
  },
  {
   "cell_type": "code",
   "execution_count": 19,
   "metadata": {},
   "outputs": [],
   "source": [
    "\n",
    "# choices generation\n",
    "for idx, choice in enumerate(choices):\n",
    "    utils.add_text_to_image(\"choice.png\", f\"choice_{idx}.png\", choice, (3*padding, 20), font_path, font_size=50, text_color=(255, 255, 255))\n",
    "\n",
    "\n",
    "choices_animation_images = utils.generate_choices_animation(code_typing_images[-1].copy(),  choices, v_padding = v_padding, v_padding_step = v_padding_step, num_frames = 10)\n",
    "\n",
    "choices_animation_images[-1].show()\n",
    "choices_animation_images[-1].save('temp.png')\n"
   ]
  },
  {
   "cell_type": "code",
   "execution_count": null,
   "metadata": {},
   "outputs": [],
   "source": []
  },
  {
   "cell_type": "code",
   "execution_count": 20,
   "metadata": {},
   "outputs": [],
   "source": [
    "import utils as utils\n",
    "# show answer\n",
    "answer_img = utils.generate_answer_image(answer_idx, choices, font_path, padding=padding, v_padding=v_padding, v_padding_step=v_padding_step)\n",
    "\n",
    "answer_img.show()\n"
   ]
  },
  {
   "cell_type": "code",
   "execution_count": null,
   "metadata": {},
   "outputs": [],
   "source": []
  }
 ],
 "metadata": {
  "kernelspec": {
   "display_name": "venv",
   "language": "python",
   "name": "python3"
  },
  "language_info": {
   "codemirror_mode": {
    "name": "ipython",
    "version": 3
   },
   "file_extension": ".py",
   "mimetype": "text/x-python",
   "name": "python",
   "nbconvert_exporter": "python",
   "pygments_lexer": "ipython3",
   "version": "3.11.3"
  }
 },
 "nbformat": 4,
 "nbformat_minor": 2
}
